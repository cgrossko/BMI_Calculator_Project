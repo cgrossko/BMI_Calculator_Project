{
 "cells": [
  {
   "cell_type": "code",
   "execution_count": 8,
   "id": "c513c31e-173e-4eb4-9460-dcd4d1ed5c74",
   "metadata": {},
   "outputs": [
    {
     "name": "stdin",
     "output_type": "stream",
     "text": [
      "Enter your weight in lbs:  190\n",
      "Enter your height in inches:  78\n"
     ]
    },
    {
     "name": "stdout",
     "output_type": "stream",
     "text": [
      "Your BMI is: 21.9543063773833\n",
      "You're considered normal weight.\n"
     ]
    }
   ],
   "source": [
    "try:\n",
    "    weight = int(input(\"Enter your weight in lbs: \"))\n",
    "    height = int(input(\"Enter your height in inches: \"))\n",
    "    BMI = (weight * 703) / (height * height)\n",
    "    print(f'Your BMI is: {BMI}')\n",
    "except ValueError:\n",
    "    print(\"Please type in a number.\")\n",
    "\n",
    "if BMI>0:\n",
    "    if(BMI<18.5):\n",
    "        print(\"You're underweight\")\n",
    "    elif(BMI<=24.9):\n",
    "        print(\"You're considered normal weight.\")\n",
    "    elif(BMI<29.9):\n",
    "        print(\"You're considered overweight.\")\n",
    "    elif(BMI<34.9):\n",
    "        print(\"You're considered obese.\")\n",
    "    elif(BMI<39.9):\n",
    "        print(\"You're considered morbidly obese.\")"
   ]
  },
  {
   "cell_type": "code",
   "execution_count": null,
   "id": "21d9299d-8ee9-412c-a92d-cf88c1a44752",
   "metadata": {},
   "outputs": [],
   "source": []
  }
 ],
 "metadata": {
  "kernelspec": {
   "display_name": "Python 3 (ipykernel)",
   "language": "python",
   "name": "python3"
  },
  "language_info": {
   "codemirror_mode": {
    "name": "ipython",
    "version": 3
   },
   "file_extension": ".py",
   "mimetype": "text/x-python",
   "name": "python",
   "nbconvert_exporter": "python",
   "pygments_lexer": "ipython3",
   "version": "3.12.1"
  }
 },
 "nbformat": 4,
 "nbformat_minor": 5
}
